{
 "cells": [
  {
   "cell_type": "code",
   "execution_count": 6,
   "id": "171372f8",
   "metadata": {},
   "outputs": [
    {
     "name": "stdout",
     "output_type": "stream",
     "text": [
      "Resultados de la caída libre:\n",
      "Velocidad: 98.10000000000001 m/s\n",
      "Desplazamiento: 490.5 m\n"
     ]
    }
   ],
   "source": [
    "#programa que guarda los valores en una tupla \n",
    "# Programa que calcula velocidad y desplazamiento en caída libre usando una tupla\n",
    "\n",
    "# Constantes\n",
    "Gravedad = 9.81\n",
    "Ingravidez = 0\n",
    "\n",
    "# Tupla con los valores\n",
    "Datos = (Gravedad, Ingravidez)\n",
    "\n",
    "# Diccionario con datos iniciales\n",
    "CaidaLibre = {\n",
    "    \"Gravedad\": Gravedad,\n",
    "    \"Ingravidez\": Ingravidez,\n",
    "    \"Velocidad\": 0,\n",
    "    \"Desplazamiento\": 0\n",
    "}\n",
    "\n",
    "# Función para calcular velocidad y desplazamiento\n",
    "def CalcularCaidaLibre(tiempo):\n",
    "    CaidaLibre[\"Velocidad\"] = CaidaLibre[\"Gravedad\"] * tiempo\n",
    "    CaidaLibre[\"Desplazamiento\"] = 0.5 * CaidaLibre[\"Gravedad\"] * (tiempo ** 2)\n",
    "\n",
    "# Llamada a la función con tiempo = 10 segundos\n",
    "CalcularCaidaLibre(10)\n",
    "\n",
    "# Mostrar resultados\n",
    "print(\"Resultados de la caída libre:\")\n",
    "print(\"Velocidad:\", CaidaLibre[\"Velocidad\"], \"m/s\")\n",
    "print(\"Desplazamiento:\", CaidaLibre[\"Desplazamiento\"], \"m\")\n"
   ]
  }
 ],
 "metadata": {
  "kernelspec": {
   "display_name": "base",
   "language": "python",
   "name": "python3"
  },
  "language_info": {
   "codemirror_mode": {
    "name": "ipython",
    "version": 3
   },
   "file_extension": ".py",
   "mimetype": "text/x-python",
   "name": "python",
   "nbconvert_exporter": "python",
   "pygments_lexer": "ipython3",
   "version": "3.12.7"
  }
 },
 "nbformat": 4,
 "nbformat_minor": 5
}

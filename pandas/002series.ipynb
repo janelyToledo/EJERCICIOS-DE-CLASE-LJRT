{
 "cells": [
  {
   "cell_type": "code",
   "execution_count": 1,
   "id": "aad1a655",
   "metadata": {},
   "outputs": [],
   "source": [
    "import pandas as pd"
   ]
  },
  {
   "cell_type": "markdown",
   "id": "6257d61a",
   "metadata": {},
   "source": [
    "**SERIE ES UN ARREGLO UNDIMENSIONAL"
   ]
  },
  {
   "cell_type": "markdown",
   "id": "3f42395d",
   "metadata": {},
   "source": [
    "**SERIE 2"
   ]
  },
  {
   "cell_type": "markdown",
   "id": "99fee6e4",
   "metadata": {},
   "source": [
    "**SERIE ES UN ARREGLO UNIDIMMENSIONAL"
   ]
  },
  {
   "cell_type": "code",
   "execution_count": null,
   "id": "7819f81d",
   "metadata": {},
   "outputs": [],
   "source": [
    "import pandas as pd\n",
    "df = pd.read_csv(r\"C:\\Users\\Usuario\\Desktop\\_NotebookAvanzada2\\pandas\")\n",
    "df"
   ]
  },
  {
   "cell_type": "code",
   "execution_count": null,
   "id": "bec83448",
   "metadata": {},
   "outputs": [],
   "source": [
    "serie=df[\"region\"]\n",
    "serie"
   ]
  },
  {
   "cell_type": "code",
   "execution_count": null,
   "id": "799a3b9c",
   "metadata": {},
   "outputs": [],
   "source": [
    "datos=[10, 20, 30, 40, 50]\n",
    "serie2=pd.Series(datos, index=[\"a\" ,\"b\", \"c\", \"d\", \"e\"])\n",
    "serie2"
   ]
  },
  {
   "cell_type": "code",
   "execution_count": null,
   "id": "9656a38d",
   "metadata": {},
   "outputs": [],
   "source": [
    "capitales={\"chile\": \"santiago\", \"argentina\": \"buenos aires\", \"peru\": \"lima\"}\n",
    "serie3=pd.Series(capitales)\n",
    "serie3"
   ]
  }
 ],
 "metadata": {
  "kernelspec": {
   "display_name": "base",
   "language": "python",
   "name": "python3"
  },
  "language_info": {
   "codemirror_mode": {
    "name": "ipython",
    "version": 3
   },
   "file_extension": ".py",
   "mimetype": "text/x-python",
   "name": "python",
   "nbconvert_exporter": "python",
   "pygments_lexer": "ipython3",
   "version": "3.12.7"
  }
 },
 "nbformat": 4,
 "nbformat_minor": 5
}

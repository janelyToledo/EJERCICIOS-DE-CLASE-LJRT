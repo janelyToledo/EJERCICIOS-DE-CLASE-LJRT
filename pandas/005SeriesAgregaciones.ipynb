{
 "cells": [
  {
   "cell_type": "code",
   "execution_count": 1,
   "id": "d86e5e9b",
   "metadata": {},
   "outputs": [
    {
     "data": {
      "text/plain": [
       "0     1\n",
       "1     2\n",
       "2    30\n",
       "3     4\n",
       "4     5\n",
       "dtype: int64"
      ]
     },
     "execution_count": 1,
     "metadata": {},
     "output_type": "execute_result"
    }
   ],
   "source": [
    "import pandas as pd\n",
    "numeros=pd.Series([1, 2, 30, 4, 5])\n",
    "numeros"
   ]
  },
  {
   "cell_type": "code",
   "execution_count": 2,
   "id": "004fb430",
   "metadata": {},
   "outputs": [
    {
     "name": "stdout",
     "output_type": "stream",
     "text": [
      "El promedio de los números es: 8.4\n"
     ]
    }
   ],
   "source": [
    "promedio=numeros.mean()\n",
    "print(f\"El promedio de los números es: {promedio}\")"
   ]
  },
  {
   "cell_type": "code",
   "execution_count": 3,
   "id": "7868730e",
   "metadata": {},
   "outputs": [
    {
     "name": "stdout",
     "output_type": "stream",
     "text": [
      "El total de los números es: 42\n"
     ]
    }
   ],
   "source": [
    "total =numeros.sum()\n",
    "print(f\"El total de los números es: {total}\")"
   ]
  },
  {
   "cell_type": "code",
   "execution_count": 4,
   "id": "8f3a6031",
   "metadata": {},
   "outputs": [
    {
     "name": "stdout",
     "output_type": "stream",
     "text": [
      "El número máximo es: 30\n",
      "El número mínimo es: 1\n"
     ]
    }
   ],
   "source": [
    "maximo=numeros.max()\n",
    "print(f\"El número máximo es: {maximo}\")\n",
    "minimo=numeros.min()\n",
    "print(f\"El número mínimo es: {minimo}\")"
   ]
  },
  {
   "cell_type": "code",
   "execution_count": null,
   "id": "29ccadd0",
   "metadata": {},
   "outputs": [],
   "source": []
  }
 ],
 "metadata": {
  "kernelspec": {
   "display_name": "base",
   "language": "python",
   "name": "python3"
  },
  "language_info": {
   "codemirror_mode": {
    "name": "ipython",
    "version": 3
   },
   "file_extension": ".py",
   "mimetype": "text/x-python",
   "name": "python",
   "nbconvert_exporter": "python",
   "pygments_lexer": "ipython3",
   "version": "3.12.7"
  }
 },
 "nbformat": 4,
 "nbformat_minor": 5
}

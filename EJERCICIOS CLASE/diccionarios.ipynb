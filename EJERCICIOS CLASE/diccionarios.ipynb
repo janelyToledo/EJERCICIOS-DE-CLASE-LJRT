{
 "cells": [
  {
   "cell_type": "code",
   "execution_count": 1,
   "id": "0afd5c24",
   "metadata": {},
   "outputs": [
    {
     "data": {
      "text/plain": [
       "dict"
      ]
     },
     "execution_count": 1,
     "metadata": {},
     "output_type": "execute_result"
    }
   ],
   "source": [
    "Dic = {}\n",
    "type(Dic)"
   ]
  },
  {
   "cell_type": "code",
   "execution_count": 2,
   "id": "574e7522",
   "metadata": {},
   "outputs": [
    {
     "data": {
      "text/plain": [
       "{'Janely': 19, 'Maria': 20, 'pedro': 35, 'CJanely': 19}"
      ]
     },
     "execution_count": 2,
     "metadata": {},
     "output_type": "execute_result"
    }
   ],
   "source": [
    "Edades = {\"Janely\": 19, \"Maria\": 20, \"pedro\": 35}\n",
    "Edades[\"CJanely\"] = 19\n",
    "Edades"
   ]
  },
  {
   "cell_type": "code",
   "execution_count": 3,
   "id": "36d75ea0",
   "metadata": {},
   "outputs": [
    {
     "data": {
      "text/plain": [
       "dict_keys(['Janely', 'Maria', 'pedro', 'CJanely'])"
      ]
     },
     "execution_count": 3,
     "metadata": {},
     "output_type": "execute_result"
    }
   ],
   "source": [
    "\n",
    "Edades.keys()"
   ]
  },
  {
   "cell_type": "code",
   "execution_count": 4,
   "id": "e02bbb78",
   "metadata": {},
   "outputs": [
    {
     "data": {
      "text/plain": [
       "dict_values([19, 20, 35, 19])"
      ]
     },
     "execution_count": 4,
     "metadata": {},
     "output_type": "execute_result"
    }
   ],
   "source": [
    "Edades.values()"
   ]
  },
  {
   "cell_type": "code",
   "execution_count": 5,
   "id": "e7571bda",
   "metadata": {},
   "outputs": [
    {
     "data": {
      "text/plain": [
       "dict_items([('Janely', 19), ('Maria', 20), ('pedro', 35), ('CJanely', 19)])"
      ]
     },
     "execution_count": 5,
     "metadata": {},
     "output_type": "execute_result"
    }
   ],
   "source": [
    "Edades.items()"
   ]
  },
  {
   "cell_type": "code",
   "execution_count": 6,
   "id": "2a75f533",
   "metadata": {},
   "outputs": [
    {
     "data": {
      "text/plain": [
       "35"
      ]
     },
     "execution_count": 6,
     "metadata": {},
     "output_type": "execute_result"
    }
   ],
   "source": [
    "Edades.get (\"pedro\")"
   ]
  }
 ],
 "metadata": {
  "kernelspec": {
   "display_name": "base",
   "language": "python",
   "name": "python3"
  },
  "language_info": {
   "codemirror_mode": {
    "name": "ipython",
    "version": 3
   },
   "file_extension": ".py",
   "mimetype": "text/x-python",
   "name": "python",
   "nbconvert_exporter": "python",
   "pygments_lexer": "ipython3",
   "version": "3.12.7"
  }
 },
 "nbformat": 4,
 "nbformat_minor": 5
}

{
 "cells": [
  {
   "cell_type": "code",
   "execution_count": 1,
   "id": "03c94460",
   "metadata": {},
   "outputs": [
    {
     "name": "stdout",
     "output_type": "stream",
     "text": [
      "1) Moneda en dolar\n",
      "2) Moneda en euro\n",
      "3) Moneda en lempira\n"
     ]
    },
    {
     "ename": "ValueError",
     "evalue": "invalid literal for int() with base 10: ''",
     "output_type": "error",
     "traceback": [
      "\u001b[1;31m---------------------------------------------------------------------------\u001b[0m",
      "\u001b[1;31mValueError\u001b[0m                                Traceback (most recent call last)",
      "Cell \u001b[1;32mIn[1], line 30\u001b[0m\n\u001b[0;32m     28\u001b[0m     \u001b[38;5;28;01melse\u001b[39;00m:\n\u001b[0;32m     29\u001b[0m         \u001b[38;5;28mprint\u001b[39m(\u001b[38;5;124m\"\u001b[39m\u001b[38;5;124mOpcion inexistente, por favor intente de nuevo.\u001b[39m\u001b[38;5;124m\"\u001b[39m)\n\u001b[1;32m---> 30\u001b[0m Conversor()\n",
      "Cell \u001b[1;32mIn[1], line 5\u001b[0m, in \u001b[0;36mConversor\u001b[1;34m()\u001b[0m\n\u001b[0;32m      3\u001b[0m \u001b[38;5;28mprint\u001b[39m(\u001b[38;5;124m\"\u001b[39m\u001b[38;5;124m2) Moneda en euro\u001b[39m\u001b[38;5;124m\"\u001b[39m)\n\u001b[0;32m      4\u001b[0m \u001b[38;5;28mprint\u001b[39m(\u001b[38;5;124m\"\u001b[39m\u001b[38;5;124m3) Moneda en lempira\u001b[39m\u001b[38;5;124m\"\u001b[39m)\n\u001b[1;32m----> 5\u001b[0m Opcion \u001b[38;5;241m=\u001b[39m \u001b[38;5;28mint\u001b[39m(\u001b[38;5;28minput\u001b[39m(\u001b[38;5;124m\"\u001b[39m\u001b[38;5;124mPor favor, ingrese la moneda que desea convertir: \u001b[39m\u001b[38;5;124m\"\u001b[39m))  \n\u001b[0;32m      7\u001b[0m \u001b[38;5;28;01mif\u001b[39;00m Opcion \u001b[38;5;241m==\u001b[39m \u001b[38;5;241m1\u001b[39m:\n\u001b[0;32m      8\u001b[0m     Dolar \u001b[38;5;241m=\u001b[39m \u001b[38;5;28mfloat\u001b[39m(\u001b[38;5;28minput\u001b[39m(\u001b[38;5;124m\"\u001b[39m\u001b[38;5;124mPor favor ingrese la cantidad a la que desea convertir: \u001b[39m\u001b[38;5;124m\"\u001b[39m))  \n",
      "\u001b[1;31mValueError\u001b[0m: invalid literal for int() with base 10: ''"
     ]
    }
   ],
   "source": [
    "def Conversor():\n",
    "    print(\"1) Moneda en dolar\")\n",
    "    print(\"2) Moneda en euro\")\n",
    "    print(\"3) Moneda en lempira\")\n",
    "    Opcion = int(input(\"Por favor, ingrese la moneda que desea convertir: \"))  \n",
    "\n",
    "    if Opcion == 1:\n",
    "        Dolar = float(input(\"Por favor ingrese la cantidad a la que desea convertir: \"))  \n",
    "        DolarLempira = Dolar * 25  \n",
    "        DolarEuro = Dolar * 0.85  \n",
    "        print(f\"La cantidad de dolares a lempiras es: {DolarLempira}\")  \n",
    "        print(f\"La cantidad de dolares a euros es: {DolarEuro}\")  \n",
    "    \n",
    "    elif Opcion == 2:\n",
    "        Euro = float(input(\"Por favor ingrese la cantidad a la que desea convertir: \"))  \n",
    "        EuroDolar = Euro * 1.18  \n",
    "        EuroLempira = Euro * 29.41  \n",
    "        print(f\"La cantidad de euros a dolares es: {EuroDolar}\")  \n",
    "        print(f\"La cantidad de euros a lempiras es: {EuroLempira}\")  \n",
    "    \n",
    "    elif Opcion == 3:\n",
    "        Lempira = float(input(\"Por favor ingrese la cantidad a la que desea convertir: \"))  \n",
    "        LempiraDolar = Lempira / 25  \n",
    "        LempiraEuro = Lempira / 29.41  \n",
    "        print(f\"La cantidad de lempiras a dolares es: {LempiraDolar}\")  \n",
    "        print(f\"La cantidad de lempiras a euros es: {LempiraEuro}\")  \n",
    "    \n",
    "    else:\n",
    "        print(\"Opcion inexistente, por favor intente de nuevo.\")\n",
    "Conversor()"
   ]
  }
 ],
 "metadata": {
  "kernelspec": {
   "display_name": "base",
   "language": "python",
   "name": "python3"
  },
  "language_info": {
   "codemirror_mode": {
    "name": "ipython",
    "version": 3
   },
   "file_extension": ".py",
   "mimetype": "text/x-python",
   "name": "python",
   "nbconvert_exporter": "python",
   "pygments_lexer": "ipython3",
   "version": "3.12.7"
  }
 },
 "nbformat": 4,
 "nbformat_minor": 5
}

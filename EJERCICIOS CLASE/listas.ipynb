{
 "cells": [
  {
   "cell_type": "code",
   "execution_count": 5,
   "id": "46795a20",
   "metadata": {},
   "outputs": [
    {
     "data": {
      "text/plain": [
       "list"
      ]
     },
     "execution_count": 5,
     "metadata": {},
     "output_type": "execute_result"
    }
   ],
   "source": [
    "Frutas = [\"fresa\", \"Melon\", \"uva\", \"pera\", \"Manzana\"]\n",
    "type(Frutas)"
   ]
  },
  {
   "cell_type": "code",
   "execution_count": 6,
   "id": "297fb957",
   "metadata": {},
   "outputs": [
    {
     "data": {
      "text/plain": [
       "list"
      ]
     },
     "execution_count": 6,
     "metadata": {},
     "output_type": "execute_result"
    }
   ],
   "source": [
    "Listas=[[1, 2, 3], [\"a\", \"b\", \"c\"], [True, False]]\n",
    "type(Listas)"
   ]
  },
  {
   "cell_type": "code",
   "execution_count": 7,
   "id": "aaafd0a8",
   "metadata": {},
   "outputs": [],
   "source": [
    "Mixtas = [1, \"a\", True, 3.14]"
   ]
  },
  {
   "cell_type": "code",
   "execution_count": 8,
   "id": "0f933aa3",
   "metadata": {},
   "outputs": [
    {
     "data": {
      "text/plain": [
       "['Guayaba', 'Melon', 'fresa', 'pera']"
      ]
     },
     "execution_count": 8,
     "metadata": {},
     "output_type": "execute_result"
    }
   ],
   "source": [
    "Frutas.pop()\n",
    "Frutas.append(\"Guayaba\")  \n",
    "Frutas.insert(2, \"Kiwi\")  \n",
    "Frutas.sort()\n",
    "Frutas.pop()\n",
    "Frutas.remove(\"Kiwi\")\n",
    "Frutas"
   ]
  },
  {
   "cell_type": "code",
   "execution_count": 9,
   "id": "53824543",
   "metadata": {},
   "outputs": [
    {
     "data": {
      "text/plain": [
       "['__add__',\n",
       " '__class__',\n",
       " '__class_getitem__',\n",
       " '__contains__',\n",
       " '__delattr__',\n",
       " '__delitem__',\n",
       " '__dir__',\n",
       " '__doc__',\n",
       " '__eq__',\n",
       " '__format__',\n",
       " '__ge__',\n",
       " '__getattribute__',\n",
       " '__getitem__',\n",
       " '__getstate__',\n",
       " '__gt__',\n",
       " '__hash__',\n",
       " '__iadd__',\n",
       " '__imul__',\n",
       " '__init__',\n",
       " '__init_subclass__',\n",
       " '__iter__',\n",
       " '__le__',\n",
       " '__len__',\n",
       " '__lt__',\n",
       " '__mul__',\n",
       " '__ne__',\n",
       " '__new__',\n",
       " '__reduce__',\n",
       " '__reduce_ex__',\n",
       " '__repr__',\n",
       " '__reversed__',\n",
       " '__rmul__',\n",
       " '__setattr__',\n",
       " '__setitem__',\n",
       " '__sizeof__',\n",
       " '__str__',\n",
       " '__subclasshook__',\n",
       " 'append',\n",
       " 'clear',\n",
       " 'copy',\n",
       " 'count',\n",
       " 'extend',\n",
       " 'index',\n",
       " 'insert',\n",
       " 'pop',\n",
       " 'remove',\n",
       " 'reverse',\n",
       " 'sort']"
      ]
     },
     "execution_count": 9,
     "metadata": {},
     "output_type": "execute_result"
    }
   ],
   "source": [
    "dir (Frutas)"
   ]
  },
  {
   "cell_type": "code",
   "execution_count": 10,
   "id": "b5e6e8e8",
   "metadata": {},
   "outputs": [
    {
     "data": {
      "text/plain": [
       "6"
      ]
     },
     "execution_count": 10,
     "metadata": {},
     "output_type": "execute_result"
    }
   ],
   "source": [
    "len(\"Janely\")\n",
    "len(\"Frutas\")"
   ]
  },
  {
   "cell_type": "code",
   "execution_count": 11,
   "id": "4835f42b",
   "metadata": {},
   "outputs": [
    {
     "data": {
      "text/plain": [
       "[1, 2, 3, 4, 5, 6]"
      ]
     },
     "execution_count": 11,
     "metadata": {},
     "output_type": "execute_result"
    }
   ],
   "source": [
    "Lista1 = [1, 2, 3]\n",
    "Lista2 = [4, 5, 6]\n",
    "Combinada = Lista1 + Lista2\n",
    "Combinada"
   ]
  },
  {
   "cell_type": "code",
   "execution_count": 12,
   "id": "6b21b044",
   "metadata": {},
   "outputs": [
    {
     "data": {
      "text/plain": [
       "[2, 3, 4]"
      ]
     },
     "execution_count": 12,
     "metadata": {},
     "output_type": "execute_result"
    }
   ],
   "source": [
    "Sublista = Combinada[1:4] \n",
    "Sublista"
   ]
  },
  {
   "cell_type": "code",
   "execution_count": 13,
   "id": "992250d1",
   "metadata": {},
   "outputs": [
    {
     "data": {
      "text/plain": [
       "tuple"
      ]
     },
     "execution_count": 13,
     "metadata": {},
     "output_type": "execute_result"
    }
   ],
   "source": [
    "T = 1,2 \n",
    "type(T)"
   ]
  },
  {
   "cell_type": "code",
   "execution_count": 14,
   "id": "08d6c36e",
   "metadata": {},
   "outputs": [
    {
     "data": {
      "text/plain": [
       "tuple"
      ]
     },
     "execution_count": 14,
     "metadata": {},
     "output_type": "execute_result"
    }
   ],
   "source": [
    "T2= (1, 2, 3)\n",
    "type(T2)"
   ]
  },
  {
   "cell_type": "code",
   "execution_count": 15,
   "id": "d7074b28",
   "metadata": {},
   "outputs": [
    {
     "data": {
      "text/plain": [
       "tuple"
      ]
     },
     "execution_count": 15,
     "metadata": {},
     "output_type": "execute_result"
    }
   ],
   "source": [
    "TM = (\"Janely\", \"Toledo\", 19)\n",
    "type (TM)"
   ]
  },
  {
   "cell_type": "code",
   "execution_count": 16,
   "id": "e70d89b1",
   "metadata": {},
   "outputs": [
    {
     "data": {
      "text/plain": [
       "'TOLEDO'"
      ]
     },
     "execution_count": 16,
     "metadata": {},
     "output_type": "execute_result"
    }
   ],
   "source": [
    "Elemento = TM[1]\n",
    "Elemento\n",
    "Elemento.upper()"
   ]
  },
  {
   "cell_type": "code",
   "execution_count": 17,
   "id": "ac7580f3",
   "metadata": {},
   "outputs": [],
   "source": [
    "Tupla = (1, 2, 3)\n",
    "Tupla [0]\n",
    "a, b, c  = Tupla"
   ]
  },
  {
   "cell_type": "code",
   "execution_count": 18,
   "id": "a3526434",
   "metadata": {},
   "outputs": [
    {
     "data": {
      "text/plain": [
       "(('Janely', 'Toledo'), (28, 7, 2006))"
      ]
     },
     "execution_count": 18,
     "metadata": {},
     "output_type": "execute_result"
    }
   ],
   "source": [
    "Nacimiento = (28,7,2006)\n",
    "Nombres=(\"Janely\", \"Toledo\")\n",
    "Datos=(Nombres, Nacimiento)  \n",
    "Datos"
   ]
  }
 ],
 "metadata": {
  "kernelspec": {
   "display_name": "base",
   "language": "python",
   "name": "python3"
  },
  "language_info": {
   "codemirror_mode": {
    "name": "ipython",
    "version": 3
   },
   "file_extension": ".py",
   "mimetype": "text/x-python",
   "name": "python",
   "nbconvert_exporter": "python",
   "pygments_lexer": "ipython3",
   "version": "3.12.7"
  }
 },
 "nbformat": 4,
 "nbformat_minor": 5
}

{
 "cells": [
  {
   "cell_type": "code",
   "execution_count": 1,
   "id": "13d106f6",
   "metadata": {},
   "outputs": [
    {
     "name": "stdout",
     "output_type": "stream",
     "text": [
      "Hola Carlitos Chávez\n",
      "El diametro del circulo es: 62.832\n",
      "La suma es igual a: 2\n"
     ]
    }
   ],
   "source": [
    "\n",
    "def saludo(nombre):\n",
    "    print(f\"Hola {nombre}\")\n",
    "\n",
    "def _Pi():\n",
    "    return 3.1416\n",
    "\n",
    "def suma(a, b):\n",
    "    return a + b\n",
    "\n",
    "saludo(\"Carlitos Chávez\")\n",
    "\n",
    "#Calcular el diametro de un circulo\n",
    "R = 10\n",
    "Diametro = 2 * _Pi() * R\n",
    "print (f\"El diametro del circulo es: {Diametro}\")\n",
    "\n",
    "#Funcion suma\n",
    "print(f\"La suma es igual a: {suma(1, 1)}\")\n",
    "     "
   ]
  }
 ],
 "metadata": {
  "kernelspec": {
   "display_name": "base",
   "language": "python",
   "name": "python3"
  },
  "language_info": {
   "codemirror_mode": {
    "name": "ipython",
    "version": 3
   },
   "file_extension": ".py",
   "mimetype": "text/x-python",
   "name": "python",
   "nbconvert_exporter": "python",
   "pygments_lexer": "ipython3",
   "version": "3.12.7"
  }
 },
 "nbformat": 4,
 "nbformat_minor": 5
}

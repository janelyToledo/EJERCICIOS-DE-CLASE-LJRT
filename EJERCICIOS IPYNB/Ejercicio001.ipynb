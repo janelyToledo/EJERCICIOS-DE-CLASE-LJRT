{
 "cells": [
  {
   "cell_type": "code",
   "execution_count": 1,
   "id": "e373ca2f",
   "metadata": {},
   "outputs": [
    {
     "name": "stdout",
     "output_type": "stream",
     "text": [
      "El total a pagar por el producto es: L. 57.5\n"
     ]
    }
   ],
   "source": [
    "TotalCompra = 0\n",
    "Descuento = 0.25\n",
    "Isv = 0.15\n",
    "\n",
    "ValorCompra = float(input(\"Por favor ingrese el valor de la compra por un producto: \"))\n",
    "if ValorCompra > 10000:\n",
    "    Descuento = 0.25\n",
    "else:\n",
    "    Descuento = 0\n",
    "\n",
    "TotalCompra = ValorCompra - (ValorCompra * Descuento)\n",
    "TotalCompra = TotalCompra + (TotalCompra * Isv)\n",
    "print (\"El total a pagar por el producto es: L.\", TotalCompra)"
   ]
  }
 ],
 "metadata": {
  "kernelspec": {
   "display_name": "base",
   "language": "python",
   "name": "python3"
  },
  "language_info": {
   "codemirror_mode": {
    "name": "ipython",
    "version": 3
   },
   "file_extension": ".py",
   "mimetype": "text/x-python",
   "name": "python",
   "nbconvert_exporter": "python",
   "pygments_lexer": "ipython3",
   "version": "3.12.7"
  }
 },
 "nbformat": 4,
 "nbformat_minor": 5
}

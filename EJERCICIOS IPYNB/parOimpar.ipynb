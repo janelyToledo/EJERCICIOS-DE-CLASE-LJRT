{
 "cells": [
  {
   "cell_type": "code",
   "execution_count": 1,
   "id": "d41b5712",
   "metadata": {},
   "outputs": [
    {
     "name": "stdout",
     "output_type": "stream",
     "text": [
      "El numero ingresado es par\n"
     ]
    }
   ],
   "source": [
    "import os\n",
    "os.system('cls'if os.name =='nt' else 'clear')\n",
    "\n",
    "#Muestra si un numero es par o impar\n",
    "num = int(input(\"Ingrese un número: \"))\n",
    "\n",
    "if num % 2 == 0:\n",
    "    print(\"El numero ingresado es par\")\n",
    "else:\n",
    "    print(\"El numero ingresado es impar\")"
   ]
  }
 ],
 "metadata": {
  "kernelspec": {
   "display_name": "base",
   "language": "python",
   "name": "python3"
  },
  "language_info": {
   "codemirror_mode": {
    "name": "ipython",
    "version": 3
   },
   "file_extension": ".py",
   "mimetype": "text/x-python",
   "name": "python",
   "nbconvert_exporter": "python",
   "pygments_lexer": "ipython3",
   "version": "3.12.7"
  }
 },
 "nbformat": 4,
 "nbformat_minor": 5
}

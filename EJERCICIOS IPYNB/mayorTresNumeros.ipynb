{
 "cells": [
  {
   "cell_type": "code",
   "execution_count": 1,
   "id": "79afc9ae",
   "metadata": {},
   "outputs": [
    {
     "name": "stdout",
     "output_type": "stream",
     "text": [
      "El numero mayor es: 4.0\n"
     ]
    }
   ],
   "source": [
    "import os\n",
    "os.system('cls'if os.name =='nt' else 'clear')\n",
    "\n",
    "#ingresa 3 numeros y dice cual es mas mayor de los tres\n",
    "\n",
    "num1 = float(input(\"Ingrese el primer numero: \"))\n",
    "num2 = float(input(\"Ingrese el segundo numero: \"))\n",
    "num3 = float(input(\"Ingrese el tercer numero: \"))\n",
    "\n",
    "mayor = num1\n",
    "if num2 > mayor:\n",
    "    mayor = num2\n",
    "if num3 > mayor:\n",
    "    mayor = num3\n",
    "\n",
    "print(\"El numero mayor es:\", mayor)"
   ]
  }
 ],
 "metadata": {
  "kernelspec": {
   "display_name": "base",
   "language": "python",
   "name": "python3"
  },
  "language_info": {
   "codemirror_mode": {
    "name": "ipython",
    "version": 3
   },
   "file_extension": ".py",
   "mimetype": "text/x-python",
   "name": "python",
   "nbconvert_exporter": "python",
   "pygments_lexer": "ipython3",
   "version": "3.12.7"
  }
 },
 "nbformat": 4,
 "nbformat_minor": 5
}

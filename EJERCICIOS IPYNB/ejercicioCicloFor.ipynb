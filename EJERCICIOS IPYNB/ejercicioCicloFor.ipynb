{
 "cells": [
  {
   "cell_type": "code",
   "execution_count": 1,
   "id": "bed3157d",
   "metadata": {},
   "outputs": [
    {
     "name": "stdout",
     "output_type": "stream",
     "text": [
      "0\n",
      "TABLA DE MULTIPLICAR DEL 5\n",
      "1\n",
      "TABLA DE MULTIPLICAR DEL 5\n",
      "2\n",
      "TABLA DE MULTIPLICAR DEL 5\n",
      "3\n",
      "TABLA DE MULTIPLICAR DEL 5\n",
      "4\n",
      "TABLA DE MULTIPLICAR DEL 5\n",
      "5\n",
      "TABLA DE MULTIPLICAR DEL 5\n",
      "6\n",
      "TABLA DE MULTIPLICAR DEL 5\n",
      "7\n",
      "TABLA DE MULTIPLICAR DEL 5\n",
      "8\n",
      "TABLA DE MULTIPLICAR DEL 5\n",
      "9\n",
      "TABLA DE MULTIPLICAR DEL 5\n",
      "10\n",
      "TABLA DE MULTIPLICAR DEL 5\n",
      "5 x 1 = 5\n",
      "5 x 2 = 10\n",
      "5 x 3 = 15\n",
      "5 x 4 = 20\n",
      "5 x 5 = 25\n",
      "5 x 6 = 30\n",
      "5 x 7 = 35\n",
      "5 x 8 = 40\n",
      "5 x 9 = 45\n",
      "5 x 10 = 50\n"
     ]
    }
   ],
   "source": [
    "for i in range (11):\n",
    "    print (i)\n",
    "\n",
    "#Hacer un prorgrama usando un ciclo for que imprima la tabla del 5\n",
    "    print (\"TABLA DE MULTIPLICAR DEL 5\")\n",
    "for i in range (1,11):\n",
    "    print (5, \"x\", i, \"=\", 5*i)"
   ]
  }
 ],
 "metadata": {
  "kernelspec": {
   "display_name": "base",
   "language": "python",
   "name": "python3"
  },
  "language_info": {
   "codemirror_mode": {
    "name": "ipython",
    "version": 3
   },
   "file_extension": ".py",
   "mimetype": "text/x-python",
   "name": "python",
   "nbconvert_exporter": "python",
   "pygments_lexer": "ipython3",
   "version": "3.12.7"
  }
 },
 "nbformat": 4,
 "nbformat_minor": 5
}

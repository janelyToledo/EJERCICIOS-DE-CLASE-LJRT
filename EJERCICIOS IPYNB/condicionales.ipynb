{
 "cells": [
  {
   "cell_type": "code",
   "execution_count": 1,
   "id": "3105508d",
   "metadata": {},
   "outputs": [
    {
     "name": "stdout",
     "output_type": "stream",
     "text": [
      "0 es par.\n",
      "0 no es par ni impar.\n"
     ]
    }
   ],
   "source": [
    "\n",
    "#Condicionales en python\n",
    "a = 0\n",
    "\n",
    "if a %2==0:\n",
    "    print (f\"{a} es par.\")\n",
    "else:\n",
    "    print (f\"{a} es impar.\") \n",
    "if a == 0:\n",
    "    print (f\"{a} no es par ni impar.\")"
   ]
  }
 ],
 "metadata": {
  "kernelspec": {
   "display_name": "base",
   "language": "python",
   "name": "python3"
  },
  "language_info": {
   "codemirror_mode": {
    "name": "ipython",
    "version": 3
   },
   "file_extension": ".py",
   "mimetype": "text/x-python",
   "name": "python",
   "nbconvert_exporter": "python",
   "pygments_lexer": "ipython3",
   "version": "3.12.7"
  }
 },
 "nbformat": 4,
 "nbformat_minor": 5
}

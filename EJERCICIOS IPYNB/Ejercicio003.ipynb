{
 "cells": [
  {
   "cell_type": "code",
   "execution_count": 1,
   "id": "9ca89e0a",
   "metadata": {},
   "outputs": [
    {
     "name": "stdout",
     "output_type": "stream",
     "text": [
      "TABLA DE MULTIPLICAR DEL 5\n",
      "5 x 1 = 5\n",
      "5 x 2 = 10\n",
      "5 x 3 = 15\n",
      "5 x 4 = 20\n",
      "5 x 5 = 25\n",
      "5 x 6 = 30\n",
      "5 x 7 = 35\n",
      "5 x 8 = 40\n",
      "5 x 9 = 45\n",
      "5 x 10 = 50\n"
     ]
    }
   ],
   "source": [
    "TablaMultiplicar = int(input(\"Por favor ingrese el numero de la tabla de multiplicar que quiere ver: \"))\n",
    "print(\"TABLA DE MULTIPLICAR DEL\", TablaMultiplicar)\n",
    "for i in range (1,11):\n",
    "    print (TablaMultiplicar, \"x\", i, \"=\", TablaMultiplicar*i)"
   ]
  }
 ],
 "metadata": {
  "kernelspec": {
   "display_name": "base",
   "language": "python",
   "name": "python3"
  },
  "language_info": {
   "codemirror_mode": {
    "name": "ipython",
    "version": 3
   },
   "file_extension": ".py",
   "mimetype": "text/x-python",
   "name": "python",
   "nbconvert_exporter": "python",
   "pygments_lexer": "ipython3",
   "version": "3.12.7"
  }
 },
 "nbformat": 4,
 "nbformat_minor": 5
}

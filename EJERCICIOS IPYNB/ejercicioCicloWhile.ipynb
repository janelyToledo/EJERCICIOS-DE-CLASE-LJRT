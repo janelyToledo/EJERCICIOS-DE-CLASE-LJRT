{
 "cells": [
  {
   "cell_type": "code",
   "execution_count": 1,
   "id": "48746144",
   "metadata": {},
   "outputs": [
    {
     "name": "stdout",
     "output_type": "stream",
     "text": [
      "Numero:  1\n",
      "Numero:  2\n",
      "Numero:  3\n",
      "Numero:  4\n",
      "Numero:  5\n",
      "Numero:  6\n",
      "Numero:  7\n",
      "Numero:  8\n",
      "Numero:  9\n",
      "Numero:  10\n"
     ]
    }
   ],
   "source": [
    "i=1\n",
    "\n",
    "while i<=10:\n",
    "    print (\"Numero: \",i)\n",
    "    i+=1"
   ]
  }
 ],
 "metadata": {
  "kernelspec": {
   "display_name": "base",
   "language": "python",
   "name": "python3"
  },
  "language_info": {
   "codemirror_mode": {
    "name": "ipython",
    "version": 3
   },
   "file_extension": ".py",
   "mimetype": "text/x-python",
   "name": "python",
   "nbconvert_exporter": "python",
   "pygments_lexer": "ipython3",
   "version": "3.12.7"
  }
 },
 "nbformat": 4,
 "nbformat_minor": 5
}

{
 "cells": [
  {
   "cell_type": "code",
   "execution_count": 1,
   "id": "ef1e2e52",
   "metadata": {},
   "outputs": [
    {
     "name": "stdout",
     "output_type": "stream",
     "text": [
      "El numero es positivo\n"
     ]
    }
   ],
   "source": [
    "#Lo que hace este programa es que  verifica si un numero es negativo o positivo\n",
    "\n",
    "import os\n",
    "os.system('cls'if os.name =='nt' else 'clear')\n",
    "''\n",
    "numero = float(input(\"Ingrese un numero: \"))\n",
    "\n",
    "if numero > 0:\n",
    "    print(\"El numero es positivo\")\n",
    "elif numero < 0:\n",
    "    print(\"El numero es negativo\")\n",
    "else:\n",
    "    print(\"El numero es cero\")"
   ]
  }
 ],
 "metadata": {
  "kernelspec": {
   "display_name": "base",
   "language": "python",
   "name": "python3"
  },
  "language_info": {
   "codemirror_mode": {
    "name": "ipython",
    "version": 3
   },
   "file_extension": ".py",
   "mimetype": "text/x-python",
   "name": "python",
   "nbconvert_exporter": "python",
   "pygments_lexer": "ipython3",
   "version": "3.12.7"
  }
 },
 "nbformat": 4,
 "nbformat_minor": 5
}

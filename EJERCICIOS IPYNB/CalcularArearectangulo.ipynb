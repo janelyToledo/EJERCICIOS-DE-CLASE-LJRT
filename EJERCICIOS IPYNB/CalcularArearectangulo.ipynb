{
 "cells": [
  {
   "cell_type": "code",
   "execution_count": 1,
   "id": "102e5a36",
   "metadata": {},
   "outputs": [
    {
     "name": "stdout",
     "output_type": "stream",
     "text": [
      "El area del rectángulo es: 800.0\n"
     ]
    }
   ],
   "source": [
    "#Calculadora que saca area de un rectangulo\n",
    "import os\n",
    "os.system('cls'if os.name =='nt' else 'clear')\n",
    "\n",
    "base = float(input(\"Ingrese la base del rectangulo: \"))\n",
    "altura = float(input(\"Ingrese la altura del recta50ngulo: \"))\n",
    "area = base * altura\n",
    "\n",
    "#Mostramos el area calculada\n",
    "print(\"El area del rectángulo es:\", area)"
   ]
  }
 ],
 "metadata": {
  "kernelspec": {
   "display_name": "base",
   "language": "python",
   "name": "python3"
  },
  "language_info": {
   "codemirror_mode": {
    "name": "ipython",
    "version": 3
   },
   "file_extension": ".py",
   "mimetype": "text/x-python",
   "name": "python",
   "nbconvert_exporter": "python",
   "pygments_lexer": "ipython3",
   "version": "3.12.7"
  }
 },
 "nbformat": 4,
 "nbformat_minor": 5
}

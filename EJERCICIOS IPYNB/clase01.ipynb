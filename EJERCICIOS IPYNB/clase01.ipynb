{
 "cells": [
  {
   "cell_type": "code",
   "execution_count": 2,
   "id": "7063cfad",
   "metadata": {},
   "outputs": [
    {
     "name": "stdout",
     "output_type": "stream",
     "text": [
      "Roli esta corriendo\n",
      "Roli gua gua gua\n",
      "Roli el animal esta comiendo\n",
      "Milu esta corriendo\n",
      "Milu el animal esta comiendo\n"
     ]
    }
   ],
   "source": [
    "\n",
    "#Creando la clase animal\n",
    "#Clases con el primer nombre en mayuscula\n",
    "\n",
    "class Animal:\n",
    "    def __init__(self, nombre):\n",
    "        self.nombre = nombre\n",
    "\n",
    "    def comer(self):\n",
    "        print(f\"{self.nombre} el animal esta comiendo\")\n",
    "\n",
    "    def correr(self):\n",
    "        print(f\"{self.nombre} esta corriendo\")\n",
    "\n",
    "class Perro(Animal):\n",
    "    def ladrar(self):\n",
    "        print(f\"{self.nombre} gua gua gua\")\n",
    "\n",
    "# Definir objetos para usar las clases\n",
    "perro = Perro(\"Roli\")\n",
    "perro.correr()\n",
    "perro.ladrar()\n",
    "perro.comer()\n",
    "\n",
    "gato = Animal(\"Milu\")\n",
    "gato.correr()\n",
    "gato.comer()"
   ]
  }
 ],
 "metadata": {
  "kernelspec": {
   "display_name": "base",
   "language": "python",
   "name": "python3"
  },
  "language_info": {
   "codemirror_mode": {
    "name": "ipython",
    "version": 3
   },
   "file_extension": ".py",
   "mimetype": "text/x-python",
   "name": "python",
   "nbconvert_exporter": "python",
   "pygments_lexer": "ipython3",
   "version": "3.12.7"
  }
 },
 "nbformat": 4,
 "nbformat_minor": 5
}

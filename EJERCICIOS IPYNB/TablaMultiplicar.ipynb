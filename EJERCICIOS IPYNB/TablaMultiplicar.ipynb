{
 "cells": [
  {
   "cell_type": "code",
   "execution_count": 1,
   "id": "c512f9be",
   "metadata": {},
   "outputs": [
    {
     "name": "stdout",
     "output_type": "stream",
     "text": [
      "Tabla del 40:\n",
      "40 x 1 = 40\n",
      "40 x 2 = 80\n",
      "40 x 3 = 120\n",
      "40 x 4 = 160\n",
      "40 x 5 = 200\n",
      "40 x 6 = 240\n",
      "40 x 7 = 280\n",
      "40 x 8 = 320\n",
      "40 x 9 = 360\n",
      "40 x 10 = 400\n"
     ]
    }
   ],
   "source": [
    "import os\n",
    "os.system('cls'if os.name =='nt' else 'clear')\n",
    "\n",
    "#pide un numero y asi muestra las tabla del numero ingresado\n",
    "\n",
    "num = int(input(\"Ingresa un numero: \"))\n",
    "\n",
    "print(f\"Tabla del {num}:\")\n",
    "for i in range(1, 11):\n",
    "    print(f\"{num} x {i} = {num * i}\")"
   ]
  }
 ],
 "metadata": {
  "kernelspec": {
   "display_name": "base",
   "language": "python",
   "name": "python3"
  },
  "language_info": {
   "codemirror_mode": {
    "name": "ipython",
    "version": 3
   },
   "file_extension": ".py",
   "mimetype": "text/x-python",
   "name": "python",
   "nbconvert_exporter": "python",
   "pygments_lexer": "ipython3",
   "version": "3.12.7"
  }
 },
 "nbformat": 4,
 "nbformat_minor": 5
}

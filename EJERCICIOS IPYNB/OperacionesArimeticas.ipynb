{
 "cells": [
  {
   "cell_type": "code",
   "execution_count": 1,
   "id": "9e037fac",
   "metadata": {},
   "outputs": [
    {
     "name": "stdout",
     "output_type": "stream",
     "text": [
      "El resultado de la suma es 5\n",
      "El resultado de la resta es -1\n",
      "El resultado de la multiplicacion es 6\n",
      "El resultado de la division es 0.6666666666666666\n"
     ]
    }
   ],
   "source": [
    "\n",
    "#Clase de operaciones aritméticas \n",
    "class OperacionesAritmeticas:\n",
    "    def __init__(self, a, b):\n",
    "        self.a = a\n",
    "        self.b = b\n",
    "\n",
    "    def suma(self):\n",
    "        return (self.a + self.b)\n",
    "\n",
    "    def resta(self):\n",
    "        return (self.a - self.b)\n",
    "\n",
    "    def multiplicacion(self):\n",
    "        return (self.a * self.b)\n",
    "\n",
    "    def division(self):\n",
    "        if self.b != 0:\n",
    "            return (self.a / self.b)\n",
    "        else:\n",
    "            return \"Error: No se puede dividir entre cero\"\n",
    "\n",
    "a = int(input(\"Ingrese el primer numero: \"))\n",
    "b = int(input(\"Ingrese el segundo numero: \"))\n",
    "\n",
    "Operacion = OperacionesAritmeticas(a, b)\n",
    "\n",
    "print(\"El resultado de la suma es\", Operacion.suma())\n",
    "print(\"El resultado de la resta es\", Operacion.resta())\n",
    "print(\"El resultado de la multiplicacion es\", Operacion.multiplicacion())\n",
    "print(\"El resultado de la division es\", Operacion.division())"
   ]
  }
 ],
 "metadata": {
  "kernelspec": {
   "display_name": "base",
   "language": "python",
   "name": "python3"
  },
  "language_info": {
   "codemirror_mode": {
    "name": "ipython",
    "version": 3
   },
   "file_extension": ".py",
   "mimetype": "text/x-python",
   "name": "python",
   "nbconvert_exporter": "python",
   "pygments_lexer": "ipython3",
   "version": "3.12.7"
  }
 },
 "nbformat": 4,
 "nbformat_minor": 5
}

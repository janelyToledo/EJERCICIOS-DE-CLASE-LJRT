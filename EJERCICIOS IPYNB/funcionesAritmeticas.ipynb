{
 "cells": [
  {
   "cell_type": "code",
   "execution_count": 1,
   "id": "29b4d07d",
   "metadata": {},
   "outputs": [
    {
     "name": "stdout",
     "output_type": "stream",
     "text": [
      "La suma es igual a: 2\n",
      "La resta es igual a: 0\n",
      "La multiplicacion es igual a: 4\n",
      "La division es igual a: 5.0\n",
      "La potencia es igual a: 4\n",
      "La raiz cuadrada es igual a: 6.0\n"
     ]
    }
   ],
   "source": [
    "#Declaracion defunciones\n",
    "def Suma (a,b):\n",
    "    return (a+b)\n",
    "\n",
    "def Resta (a,b):\n",
    "    return (a-b)\n",
    "\n",
    "def Multiplicacion (a,b):\n",
    "    return (a*b)\n",
    "\n",
    "def Division (a,b):\n",
    "    return (a/b)\n",
    "\n",
    "def Potencia (a,b):\n",
    "    return (a**b)\n",
    "\n",
    "def Raiz (a):\n",
    "    return a**(1/2)\n",
    "\n",
    "#Invocaciones de las funciones\n",
    "print(f\"La suma es igual a: {Suma(1, 1)}\")\n",
    "print(f\"La resta es igual a: {Resta(1, 1)}\")\n",
    "print(f\"La multiplicacion es igual a: {Multiplicacion(2, 2)}\")\n",
    "print(f\"La division es igual a: {Division(25, 5)}\")\n",
    "print(f\"La potencia es igual a: {Potencia(2, 2)}\")\n",
    "print(f\"La raiz cuadrada es igual a: {Raiz(36)}\")\n",
    "     "
   ]
  }
 ],
 "metadata": {
  "kernelspec": {
   "display_name": "base",
   "language": "python",
   "name": "python3"
  },
  "language_info": {
   "codemirror_mode": {
    "name": "ipython",
    "version": 3
   },
   "file_extension": ".py",
   "mimetype": "text/x-python",
   "name": "python",
   "nbconvert_exporter": "python",
   "pygments_lexer": "ipython3",
   "version": "3.12.7"
  }
 },
 "nbformat": 4,
 "nbformat_minor": 5
}
